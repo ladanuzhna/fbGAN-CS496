{
  "nbformat": 4,
  "nbformat_minor": 0,
  "metadata": {
    "colab": {
      "name": "FBGAN.ipynb",
      "provenance": [],
      "collapsed_sections": []
    },
    "kernelspec": {
      "name": "python3",
      "display_name": "Python 3"
    },
    "accelerator": "GPU"
  },
  "cells": [
    {
      "cell_type": "code",
      "metadata": {
        "id": "JEh4r7jEDS3W"
      },
      "source": [
        "import tensorflow as tf\n",
        "from tensorflow.keras.layers import Conv1D,Input,Dense, Reshape, ReLU, Permute\n",
        "from keras.utils.vis_utils import plot_model\n",
        "import numpy as np"
      ],
      "execution_count": 114,
      "outputs": []
    },
    {
      "cell_type": "markdown",
      "metadata": {
        "id": "JXxLNk48BthE"
      },
      "source": [
        "### Models Functions"
      ]
    },
    {
      "cell_type": "code",
      "metadata": {
        "id": "X8aH8M32F08r"
      },
      "source": [
        "SEQ_LENGTH = 50\n",
        "DIM = 100\n",
        "KERNEL_SIZE = 5\n",
        "BATCH_SIZE = None\n",
        "N_CHAR = 21\n",
        "NOISE_SHAPE = 128\n",
        "\n",
        "def softmax(logits):\n",
        "    shape = tf.shape(logits)\n",
        "    res = tf.nn.softmax(tf.reshape(logits, [-1,N_CHAR]))\n",
        "    return tf.reshape(res, shape)\n",
        "\n",
        "class ResidualBlock(tf.keras.layers.Layer):\n",
        "\n",
        "    def __init__(self):\n",
        "        super(ResidualBlock, self).__init__()\n",
        "        self.relu = ReLU()\n",
        "        self.conv1d_1 = Conv1D(filters=DIM, kernel_size=KERNEL_SIZE, padding='same', strides=1, activation='relu')\n",
        "        self.conv1d_2 = Conv1D(filters=DIM, kernel_size=KERNEL_SIZE, padding='same', strides=1)\n",
        "\n",
        "    def __call__(self,X,alpha = 0.3):\n",
        "        x = self.relu(X)\n",
        "        x = self.conv1d_1(x)\n",
        "        x = self.conv1d_2(x)\n",
        "        return x + alpha*x\n",
        "\n",
        "class Generator(tf.keras.Model):\n",
        "\n",
        "    def __init__(self):\n",
        "        \"\"\"\n",
        "        implementation of Generator\n",
        "        :param input_size: size of the sequence (input noise)\n",
        "        \"\"\"\n",
        "        super().__init__(name='generator')\n",
        "\n",
        "        self.model = tf.keras.models.Sequential()\n",
        "        self.model.add(Input(shape = (NOISE_SHAPE,), batch_size = BATCH_SIZE))\n",
        "        self.model.add(Dense(units = DIM*SEQ_LENGTH))\n",
        "        self.model.add(Reshape((SEQ_LENGTH, DIM)))\n",
        "\n",
        "        self.model.add(ResidualBlock())\n",
        "        self.model.add(ResidualBlock())\n",
        "        self.model.add(ResidualBlock())\n",
        "        self.model.add(ResidualBlock())\n",
        "        self.model.add(ResidualBlock())\n",
        "\n",
        "        self.model.add(Conv1D(filters = N_CHAR, kernel_size = 1))\n",
        "\n",
        "    def __call__(self, inputs):\n",
        "        x = self.model(inputs)\n",
        "        x = softmax(x)\n",
        "        return x\n",
        "\n",
        "class Discriminator(tf.keras.Model):\n",
        "\n",
        "    def __init__(self, clip = 1):\n",
        "        \"\"\"\n",
        "        implementation of Discriminator\n",
        "        :param clip: value to which you clip the gradients (or False)\n",
        "        \"\"\"\n",
        "        super().__init__(name='discriminator')\n",
        "\n",
        "        self.model = tf.keras.models.Sequential()\n",
        "        self.model.add(Input(shape = (SEQ_LENGTH,N_CHAR), batch_size = BATCH_SIZE))\n",
        "        self.model.add(Conv1D(filters = DIM, kernel_size = 1))\n",
        "\n",
        "        self.model.add(ResidualBlock())\n",
        "        self.model.add(ResidualBlock())\n",
        "        self.model.add(ResidualBlock())\n",
        "        self.model.add(ResidualBlock())\n",
        "        self.model.add(ResidualBlock())\n",
        "\n",
        "        self.model.add(Reshape((-1,DIM*SEQ_LENGTH)))\n",
        "        self.model.add(Dense(units = DIM*SEQ_LENGTH))\n",
        "        self.model.add(Dense(units = 1))\n",
        "\n",
        "\n",
        "    def __call__(self,inputs,training = False):\n",
        "        \"\"\"\n",
        "        model's forward pass\n",
        "        :param X: input of the size [batch_size, seq_length];\n",
        "        :param training: specifies the behavior of the call;\n",
        "        :return: Y: probability of each sequences being real of shape [batch_size, 1]\n",
        "        \"\"\"\n",
        "        x = self.model(inputs)\n",
        "        return x"
      ],
      "execution_count": 15,
      "outputs": []
    },
    {
      "cell_type": "markdown",
      "metadata": {
        "id": "aTOfLfHi2E_7"
      },
      "source": [
        "### Load data Functions"
      ]
    },
    {
      "cell_type": "code",
      "metadata": {
        "id": "5QpiBvIH2G-e"
      },
      "source": [
        "import numpy as np\n",
        "import pandas as pd\n",
        "from keras.preprocessing import sequence\n",
        "from keras.preprocessing.text import Tokenizer\n",
        "from sklearn.model_selection import train_test_split\n",
        "from keras.utils import to_categorical\n",
        "\n",
        "MAX_LEN = 50  # maximum length of the sequence\n",
        "\n",
        "def triplets(sequences):\n",
        "    \"\"\"\n",
        "    Apply sliding window of length 3 to each sequence in the input list\n",
        "    :param sequences: list of sequences\n",
        "    :return: numpy array of triplets for each sequence\n",
        "    Usage: Split protein sequence into triplets of aminoacids\n",
        "    \"\"\"\n",
        "    return np.array([[aminoacids[i:i+3] for i in range(len(aminoacids))] for aminoacids in sequences])\n",
        "\n",
        "def get_data(return_sequence=False):\n",
        "    \"\"\"\n",
        "\n",
        "    :param return_sequence: parameter that specifies whether we want to return raw sequence or its embedding\n",
        "    :return: X_train,X_test,Y_train,Y_test\n",
        "    \"\"\"\n",
        "    path = '/content/drive/My Drive/Colab Notebooks/FB-GAN_496/data/2018-06-06-ss.cleaned.csv'\n",
        "    df = pd.read_csv(path)\n",
        "\n",
        "    \"\"\"\n",
        "    Columns of interest for classification:\n",
        "    seq: the sequence of the peptide\n",
        "    sst8: the eight-state (Q8) secondary structure\n",
        "    sst3: the three-state (Q3) secondary structure\n",
        "    len: the length of the peptide\n",
        "    has_nonstd_aa: whether the peptide contains nonstandard amino acids (B, O, U, X, or Z).\n",
        "    \"\"\"\n",
        "    input_seqs, target_seqs = df[['seq', 'sst8']][(df.len <= MAX_LEN) & (~df.has_nonstd_aa)].values.T\n",
        "\n",
        "    # Transform features\n",
        "    tokenizer_encoder = Tokenizer()\n",
        "    input_grams = triplets(input_seqs)\n",
        "    tokenizer_encoder.fit_on_texts(input_grams)\n",
        "    input_data = tokenizer_encoder.texts_to_sequences(input_grams)\n",
        "    input_data = sequence.pad_sequences(input_data, maxlen=MAX_LEN, padding='post')\n",
        "\n",
        "    # Transform targets\n",
        "    tokenizer_decoder = Tokenizer(char_level=True)\n",
        "    tokenizer_decoder.fit_on_texts(target_seqs)\n",
        "    target_data = tokenizer_decoder.texts_to_sequences(target_seqs)\n",
        "    target_data = sequence.pad_sequences(target_data, maxlen=MAX_LEN, padding='post')\n",
        "    target_data = to_categorical(target_data)\n",
        "\n",
        "    X_train, X_test, y_train, y_test = train_test_split(input_data, target_data, test_size=.3, random_state=1)\n",
        "    seq_train, seq_test, target_train, target_test = train_test_split(input_seqs, target_seqs, test_size=.3,random_state=1)\n",
        "    \n",
        "    if return_sequence:\n",
        "        return seq_train,seq_test,target_train,target_test\n",
        "    else:\n",
        "        return X_train,X_test,y_train,y_test\n",
        "\n"
      ],
      "execution_count": 21,
      "outputs": []
    },
    {
      "cell_type": "code",
      "metadata": {
        "id": "KtaCLIW0w21k"
      },
      "source": [
        "def get_dataset(sequences, batch_size = BATCH_SIZE):\n",
        "    dataset = tf.data.Dataset.from_tensor_slices(sequences)\n",
        "    dataset = dataset.shuffle(sequences.shape[0], seed=0).batch(batch_size)\n",
        "    return dataset"
      ],
      "execution_count": 22,
      "outputs": []
    },
    {
      "cell_type": "code",
      "metadata": {
        "id": "dbb7JH-hR1lD"
      },
      "source": [
        "import numpy as np\n",
        "import pandas as pd\n",
        "from keras.preprocessing.sequence import pad_sequences\n",
        "\n",
        "\n",
        "class OneHot_Seq():\n",
        "    def __init__(self, amino_acids = None, max_length = MAX_LEN, pad_with = None):\n",
        "\n",
        "        if amino_acids is None:\n",
        "            self.amino_acids = ['A', 'R', 'N', 'D', 'C', 'Q', 'E','G', 'H', 'I', 'L', 'K', \n",
        "               'M', 'F', 'P','S', 'T', 'W', 'Y', 'V']\n",
        "        else: \n",
        "            self.amino_acids = amino_acids\n",
        "        \n",
        "        self.amino_acids_dict = {f'{aa}': i+1 for i,aa in enumerate(self.amino_acids)}      \n",
        "        self.invert_dict = {v: k for k, v in self.amino_acids_dict.items()}\n",
        "        self.invert_dict[0] = '0'\n",
        "\n",
        "        self.max_length = max_length\n",
        "\n",
        "\n",
        "    def _parse_pad_sequences(self, sequences):\n",
        "        '''\n",
        "        Parse strings into sequences encoded with integers 1-21 for amino acids or 0 if padded\n",
        "        '''\n",
        "        parse = lambda seq: np.array([a for a in seq])\n",
        "        parsed = pd.DataFrame(sequences).iloc[:,0].apply(parse)\n",
        "\n",
        "\n",
        "        for i in range(parsed.shape[0]):\n",
        "            parsed[i] = np.vectorize(self.amino_acids_dict.get)(parsed[i])\n",
        "        \n",
        "        parsed = pad_sequences(parsed, maxlen = self.max_length, value = 0, padding = 'post')\n",
        "\n",
        "        return parsed\n",
        "\n",
        "    def seq_to_onehot(self,sequences):\n",
        "        '''\n",
        "        Inputs\n",
        "        sequences (ndarray)     array of strings with shape (N, 1) where N is the number of samples. For example, [['AEGYCDQHILKFPS'],['CEHYDEAEGYS']] \n",
        "\n",
        "        Returns\n",
        "        onehot (ndarray)        array of onehot encoded sequences of shape (N, sequence_length, aa_code (0-21))\n",
        "        '''\n",
        "\n",
        "        sequences = self._parse_pad_sequences(sequences)\n",
        "\n",
        "        onehot = []\n",
        "\n",
        "        for seq in sequences:\n",
        "            onehot_seq = np.zeros((seq.size, len(self.amino_acids) + 1))\n",
        "            onehot_seq[np.arange(seq.size),seq] = 1\n",
        "\n",
        "            onehot.append(onehot_seq)\n",
        "        \n",
        "        return np.array(onehot)\n",
        "\n",
        "\n",
        "    def onehot_to_seq(self, sequences):\n",
        "        sequences = np.argmax(sequences, axis = 2)\n",
        "        sequences = np.vectorize(OneHot.invert_dict.get)(sequences)\n",
        "        decoded_sequences = [[''.join([aa for aa in seq])] for seq in sequences]\n",
        "\n",
        "        return decoded_sequences\n"
      ],
      "execution_count": 23,
      "outputs": []
    },
    {
      "cell_type": "markdown",
      "metadata": {
        "id": "498gxgO8oi7_"
      },
      "source": [
        "### Load Dataset\n"
      ]
    },
    {
      "cell_type": "code",
      "metadata": {
        "id": "SifPN64EUIYr"
      },
      "source": [
        "X_train,X_test,y_train,y_test = get_data(return_sequence=True)"
      ],
      "execution_count": 60,
      "outputs": []
    },
    {
      "cell_type": "code",
      "metadata": {
        "id": "X-HZaY9gtyoS"
      },
      "source": [
        "X = X_train \n",
        "OneHot = OneHot_Seq()\n",
        "real_sequences = OneHot.seq_to_onehot(X)"
      ],
      "execution_count": 61,
      "outputs": []
    },
    {
      "cell_type": "markdown",
      "metadata": {
        "id": "seQCNgtmBv7K"
      },
      "source": [
        "### GAN"
      ]
    },
    {
      "cell_type": "code",
      "metadata": {
        "id": "PP_pwva_3kL1"
      },
      "source": [
        "import tensorflow as tf\n",
        "import matplotlib.pyplot as plt\n",
        "#from Models import Generator, Discriminator\n",
        "\n",
        "BATCH_SIZE = 32\n",
        "NOISE_SHAPE = 128\n",
        "\n",
        "\n",
        "class GAN():\n",
        "\n",
        "    def __init__(self, batch_size = BATCH_SIZE, discriminator_steps = 5 ):\n",
        "        self.batch_size = batch_size\n",
        "\n",
        "        self.G = Generator()\n",
        "        self.D = Discriminator()\n",
        "\n",
        "        self.d_steps = discriminator_steps\n",
        "\n",
        "        self.history = {\"G_losses\": [], \"D_losses\": []}\n",
        "\n",
        "    def compile(self, lr = 0.0002, gradient_penalty_weight = 10):\n",
        "        self.G_optimizer = tf.keras.optimizers.Adam(learning_rate=lr, beta_1=0.5, beta_2=0.9)\n",
        "        self.D_optimizer = tf.keras.optimizers.Adam(learning_rate=lr, beta_1=0.5, beta_2=0.9)\n",
        "\n",
        "        self.gp_weight = gradient_penalty_weight\n",
        "\n",
        "    def generate_samples(self):\n",
        "        z = tf.random.normal([self.batch_size, NOISE_SHAPE])\n",
        "        generated = self.G(z)\n",
        "        return generated\n",
        "\n",
        "    def generator_loss(self, fake_score):\n",
        "        return -tf.math.reduce_mean(fake_score)\n",
        "\n",
        "    def discriminator_loss(self, real_score, fake_score):\n",
        "        return tf.math.reduce_mean(real_score) - tf.math.reduce_mean(fake_score)\n",
        "\n",
        "    @tf.function\n",
        "    def gradient_penalty(self, real_samples, fake_samples):\n",
        "        alpha = tf.random.normal([self.batch_size, 1, 1], 0.0, 1.0)\n",
        "        real_samples = tf.cast(real_samples, tf.float32)\n",
        "        diff = fake_samples - real_samples\n",
        "        interpolated = real_samples + alpha * diff\n",
        "\n",
        "        with tf.GradientTape() as gp_tape:\n",
        "            gp_tape.watch(interpolated)\n",
        "            pred = self.D(interpolated, training=True)\n",
        "\n",
        "        grads = gp_tape.gradient(pred, [interpolated])[0]\n",
        "        norm = tf.sqrt(tf.reduce_sum(tf.square(grads), axis=[1, 2]))\n",
        "        gp = tf.reduce_mean((norm - 1.0) ** 2)\n",
        "        \n",
        "        return gp\n",
        "\n",
        "    @tf.function\n",
        "    def G_train_step(self):\n",
        "        with tf.GradientTape() as tape:\n",
        "            fake_samples = self.generate_samples()\n",
        "            fake_score = self.D(fake_samples, training=True)\n",
        "            G_loss = self.generator_loss(fake_score)\n",
        "\n",
        "        G_gradients = tape.gradient(G_loss, self.G.trainable_variables)\n",
        "        self.G_optimizer.apply_gradients((zip(G_gradients, self.G.trainable_variables)))\n",
        "\n",
        "        return G_loss\n",
        "\n",
        "    @tf.function\n",
        "    def D_train_step(self, real_samples):\n",
        "        with tf.GradientTape() as tape:\n",
        "            fake_samples = self.generate_samples()\n",
        "            real_score = self.D(real_samples, training=True)\n",
        "            fake_score = self.D(fake_samples, training=True)\n",
        "\n",
        "            D_loss = self.discriminator_loss(real_score, fake_score)\n",
        "            D_loss = D_loss + self.gradient_penalty(real_samples, fake_samples) * self.gp_weight\n",
        "\n",
        "        D_gradients = tape.gradient(D_loss, self.D.trainable_variables)\n",
        "        self.D_optimizer.apply_gradients((zip(D_gradients, self.D.trainable_variables)))\n",
        "\n",
        "        return D_loss\n",
        "\n",
        "    def create_dataset(self, inputs):\n",
        "        dataset = tf.data.Dataset.from_tensor_slices(inputs)\n",
        "        dataset = dataset.shuffle(inputs.shape[0], seed=0).batch(self.batch_size, drop_remainder = True)\n",
        "        return dataset\n",
        "\n",
        "    def train(self, inputs, epochs):\n",
        "\n",
        "        dataset = self.create_dataset(inputs)\n",
        "        dataset = dataset.as_numpy_iterator()\n",
        "\n",
        "        for epoch in range(epochs):\n",
        "\n",
        "            print(f\"Epoch {epoch}/{epochs}:\")\n",
        "\n",
        "            for sample_batch in dataset:\n",
        "                G_loss = self.G_train_step()\n",
        "                D_loss = self.D_train_step(sample_batch)\n",
        "\n",
        "            self.history[\"G_losses\"].append(G_loss.numpy())\n",
        "            self.history[\"D_losses\"].append(D_loss.numpy())\n",
        "\n",
        "            print(f\"\\tGenerator loss: {G_loss.numpy()}. \\tDiscriminator loss: {D_loss.numpy()}\")\n",
        "\n",
        "    def plot_history(self):\n",
        "        D_losses = np.array(self.history['D_losses'])\n",
        "        G_losses = np.array(self.history['G_losses'])\n",
        "\n",
        "        plt.plot(np.arange(D_losses.shape[0]), D_losses, label='Discriminator loss')\n",
        "        plt.plot(np.arange(G_losses.shape[0]), G_losses, label='Generator loss')\n",
        "        plt.legend()\n",
        "        plt.show()\n"
      ],
      "execution_count": 162,
      "outputs": []
    },
    {
      "cell_type": "code",
      "metadata": {
        "id": "BCWmuAa7zmXo"
      },
      "source": [
        "gan = GAN()\n",
        "gan.compile()\n",
        "gan.train(real_sequences, epochs = 100)"
      ],
      "execution_count": null,
      "outputs": []
    },
    {
      "cell_type": "markdown",
      "metadata": {
        "id": "LMo1lxNXFYjp"
      },
      "source": [
        ""
      ]
    },
    {
      "cell_type": "markdown",
      "metadata": {
        "id": "2XyavBnxFcoE"
      },
      "source": [
        "With gradient penalty\n",
        "\n",
        "![image.png](data:image/png;base64,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)"
      ]
    },
    {
      "cell_type": "markdown",
      "metadata": {
        "id": "ta7tDS4juv7Z"
      },
      "source": [
        "Without gradient penalty    \n",
        "![image.png](data:image/png;base64,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)"
      ]
    },
    {
      "cell_type": "code",
      "metadata": {
        "id": "40pnAx9HNs--",
        "colab": {
          "base_uri": "https://localhost:8080/"
        },
        "outputId": "9d86e515-24b5-46ed-a80f-cbbd5de1fbe3"
      },
      "source": [
        "fake_samples = gan.generate_samples()\n",
        "decod = OneHot.onehot_to_seq(fake_samples)\n",
        "\n",
        "print('Examples of generated sequences: \\n')\n",
        "for i in range(32):\n",
        "    print(i,decod[i][0])"
      ],
      "execution_count": null,
      "outputs": [
        {
          "output_type": "stream",
          "text": [
            "Examples of generated sequences: \n",
            "\n",
            "0 HHHHHHHHHHHHHHHHHHHHHHHHHHHHHHHHHHHHHHHHHHHHHHHHHHHHHHHHHHHHHHHHHHHHHHHHHHHHHHHHHHHHHHHHHHHHHHHHHHHHHHHHHHHHHHHHHHHHHHHHHHHHHHVV\n",
            "1 HHHHHHHHHHHHHHHHHHHHHHHHHHHHHHHHHHHHHHHHHHHHHHHHHHHHHHHHHHHHHHHHHHHHHHHHHHHHHHHHHHHHHHHHHHHHHHHHHHHHHHHHHHHHHHHHHHHHHHHHHHHHHHVV\n",
            "2 HHHHHHHHHHHHHHHHHHHHHHHHHHHHHHHHHHHHHHHHHHHHHHHHHHHHHHHHHHHHHHHHHHHHHHHHHHHHHHHHHHHHHHHHHHHHHHHHHHHHHHHHHHHHHHHHHHHHHHHHHHHHHHVV\n",
            "3 HHHHHHHHHHHHHHHHHHHHHHHHHHHHHHHHHHHHHHHHHHHHHHHHHHHHHHHHHHHHHHHHHHHHHHHHHHHHHHHHHHHHHHHHHHHHHHHHHHHHHHHHHHHHHHHHHHHHHHHHHHHHHHVV\n",
            "4 HHHHHHHHHHHHHHHHHHHHHHHHHHHHHHHHHHHHHHHHHHHHHHHHHHHHHHHHHHHHHHHHHHHHHHHHHHHHHHHHHHHHHHHHHHHHHHHHHHHHHHHHHHHHHHHHHHHHHHHHHHHHHHHV\n",
            "5 GHHHHHHHHHHHHHHHHHHHHHHHHHHHHHHHHHHHHHHHHHHHHHHHHHHHHHHHHHHHHHHHHHHHHHHHVHHHHHHHHHHHHHHHHHHHHHHHHHHHHHHHHHHHHHHHHHHHHHHHHHHHHHVV\n",
            "6 HHHHHHHHHHHHHHHHHHHHHHHHHHHHHHHHHHHHHHHHHHHHHHHHHHHHHHHHHHHHHHHHHHHHHHHHHHHHHHHHHHHHHHHHHHHHHHHHHHHHHHHHHHHHHHHHHHHHHHHHHHHHHHVV\n",
            "7 HHHHHHHHHHHHHHHHHHHHHHHHHHHHHHHHHHHHHHHHHHHHHHHHHHHHHHHHHHHHHHHHHHHHHHHHHHHHHHHHHHHHHHHHHHHHHHHHHHHHHHHHHHHHHHHHHHHHHHHHHHHHHHVV\n",
            "8 HHHHHHHHHHHHHHHHHHHHHHHHHHHHHHHHHHHHHHHHHHHHHHHHHHHHHHHHHHHHHHHHHHHHHHHHHHHHHHHHHHHHHHHHHHHHHHHHHHHHHHHHHHHHHHHHHHHHHHHHHHHHHHVV\n",
            "9 HHHHHHHHHHHHHHHHHHHHHHHHHHHHHHHHHHHHHHHHHHHHHHHHHHHHHHHHHHHHHHHHHHHHHHHHHHHHHHHHHHHHHHHHHHHHHHHHHHHHHHHHHHHHHHHHHHHHHHHHHHHHHHHV\n",
            "10 GHHHHHHHHHHHHHHHHHHHHHHHHHHHHHHHHHHHHHHHHHHHHHHHHHHHHHHHHHHHHHHHHHHHHHHHHHHHHHHHHHHHHHHHHHHHHHHHHHHHHHHHHHHHHHHHHHHHHHHHHHHHHHVV\n",
            "11 HHHHHHHHHHHHHHHHHHHHHHHHHHHHHHHHHHHHHHHHHHHHHHHHHHHHHHHHHHHHHHHHHHHHHHHHHHHHHHHHHHHHHHHHHHHHHHHHHHHHHHHHHHHHHHHHHHHHHHHHHHHHHHVV\n",
            "12 GHHHHHHHHHHHHHHHHHHHHHHHHHHHHHHHHHHHHHHHHHHHHHHHHHHHHHHHHHHHHHHHHHHHHHHHHHHHHHHHHHHHHHHHHHHHHHHHHHHHHHHHHHHHHHHHHHHHHHHHHHHHHHVV\n",
            "13 HHHHHHHHHHHHHHHHHHHHHHHHHHHHHHHHHHHHHHHHHHHHHHHHHHHHHHHHHHHHHHHHHHHHHHHHHHHHHHHHHHHHHHHHHHHHHHHHHHHHHHHHHHHHHHHHHHHHHHHHHHHHHHVV\n",
            "14 HHHHHHHHHHHHHHHHHHHHHHHHHHHHHHHHHHHHHHHHHHHHHHHHHHHHHHHHHHHHHHHHHHHHHHHHHHHHHHHHHHHHHHHHHHHHHHHHHHHHHHHHHHHHHHHHHHHHHHHHHHHHHHHV\n",
            "15 HHHHHHHHHHHHHHHHHHHHHHHHHHHHHHHHHHHHHHHHHHHHHHHHHHHHHHHHHHHHHHHHHHHHHHHHHHHHHHHHHHHHHHHHHHHHHHHHHHHHHHHHHHHHHHHHHHHHHHHHHHHHHHVV\n",
            "16 HHHHHHHHHHHHHHHHHHHHHHHHHHHHHHHHHHHHHHHHHHHHHHHHHHHHHHHHHHHHHHHHHHHHHHHHHHHHHHHHHHHHHHHHHHHHHHHHHHHHHHHHHHHHHHHHHHHHHHHHHHHHHHVV\n",
            "17 HHHHHHHHHHHHHHHHHHHHHHHHHHHHHHHHHHHHHHHHHHHHHHHHHHHHHHHHHHHHHHHHHHHHHHHHHHHHHHHHHHHHHHHHHHHHHHHHHHHHHHHHHHHHHHHHHHHHHHHHHHHHHHVV\n",
            "18 HHHHHHHHHHHHHHHHHHHHHHHHHHHHHHHHHHHHHHHHHHHHHHHHHHHHHHHHHHHHHHHHHHHHHHHHHHHHHHHHHHHHHHHHHHHHHHHHHHHHHHHHHHHHHHHHHHHHHHHHHHHHHHVV\n",
            "19 HHHHHHHHHHHHHHHHHHHHHHHHHHHHHHHHHHHHHHHHHHHHHHHHHHHHHHHHHHHHHHHHHHHHHHHHHHHHHHHHHHHHHHHHHHHHHHHHHHHHHHHHHHHHHHHHHHHHHHHHHHHHHHVV\n",
            "20 HHHHHHHHHHHHHHHHHHHHHHHHHHHHHHHHHHHHHHHHHHHHHHHHHHHHHHHHHHHHHHHHHHHHHHHHHHHHHHHHHHHHHHHHHHHHHHHHHHHHHHHHHHHHHHHHHHHHHHHHHHHHHHVV\n",
            "21 HHHHHHHHHHHHHHHHHHHHHHHHHHHHHHHHHHHHHHHHHHHHHHHHHHHHHHHHHHHHHHHHHHHHHHHHHHHHHHHHHHHHHHHHHHHHHHHHHHHHHHHHHHHHHHHHHHHHHHHHHHHHHHHV\n",
            "22 HHHHHHHHHHHHHHHHHHHHHHHHHHHHHHHHHHHHHHHHHHHHHHHHHHHHHHHHHHHHHHHHHHHHHHHHHHHHHHHHHHHHHHHHHHHHHHHHHHHHHHHHHHHHHHHHHHHHHHHHHHHHHHVV\n",
            "23 HHHHHHHHHHHHHHHHHHHHHHHHHHHHHHHHHHHHHHHHHHHHHHHHHHHHHHHHHHHHHHHHHHHHHHHHHHHHHHHHHHHHHHHHHHHHHHHHHHHHHHHHHHHHHHHHHHHHHHHHHHHHHHVV\n",
            "24 HHHHHHHHHHHHHHHHHHHHHHHHHHHHHHHHHHHHHHHHHHHHHHHHHHHHHHHHHHHHHHHHHHHHHHHHHHHHHHHHHHHHHHHHHHHHHHHHHHHHHHHHHHHHHHHHHHHHHHHHHHHHHHVV\n",
            "25 HHHHHHHHHHHHHHHHHHHHHHHHHHHHHHHHHHHHHHHHHHHHHHHHHHHHHHHHHHHHHHHHHHHHHHHHHHHHHHHHHHHHHHHHHHHHHHHHHHHHHHHHHHHHHHHHHHHHHHHHHHHHHHVV\n",
            "26 HHHHHHHHHHHHHHHHHHHHHHHHHHHHHHHHHHHHHHHHHHHHHHHHHHHHHHHHHHHHHHHHHHHHHHHHHHHHHHHHHHHHHHHHHHHHHHHHHHHHHHHHHHHHHHHHHHHHHHHHHHHHHHVV\n",
            "27 HHHHHHHHHHHHHHHHHHHHHHHHHHHHHHHHHHHHHHHHHHHHHHHHHHHHHHHHHHHHHHHHHHHHHHHHHHHHHHHHHHHHHHHHHHHHHHHHHHHHHHHHHHHHHHHHHHHHHHHHHHHHHHVV\n",
            "28 GHHHHHHHHHHHHHHHHHHHHHHHHHHHHHHHHHHHHHHHHHHHHHHHHHHHHHHHHHHHHHHHHHHHHHHHHHHHHHHHHHHHHHHHHHHHHHHHHHHHHHHHHHHHHHHHHHHHHHHHHHHHHHHV\n",
            "29 HHHHHHHHHHHHHHHHHHHHHHHHHHHHHHHHHHHHHHHHHHHHHHHHHHHHHHHHHHHHHHHHHHHHHHHHHHHHHHHHHHHHHHHHHHHHHHHHHHHHHHHHHHHHHHHHHHHHHHHHHHHHHHVV\n",
            "30 HHHHHHHHHHHHHHHHHHHHHHHHHHHHHHHHHHHHHHHHHHHHHHHHHHHHHHHHHHHHHHHHHHHHHHHHHHHHHHHHHHHHHHHHHHHHHHHHHHHHHHHHHHHHHHHHHHHHHHHHHHHHHHHV\n",
            "31 HHHHHHHHHHHHHHHHHHHHHHHHHHHHHHHHHHHHHHHHHHHHHHHHHHHHHHHHHHHHHHHHHHHHHHHHHHHHHHHHHHHHHHHHHHHHHHHHHHHHHHHHHHHHHHHHHHHHHHHHHHHHHHVV\n"
          ],
          "name": "stdout"
        }
      ]
    },
    {
      "cell_type": "code",
      "metadata": {
        "id": "bWuZQusSfUJ1"
      },
      "source": [
        ""
      ],
      "execution_count": null,
      "outputs": []
    }
  ]
}